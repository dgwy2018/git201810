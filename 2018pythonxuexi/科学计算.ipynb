{
 "cells": [
  {
   "cell_type": "markdown",
   "metadata": {},
   "source": [
    "\n",
    "科学计算\n",
    "\n",
    "http://code.enthought.com/pages/mayavi-project.html\n",
    "\n",
    "\n",
    "PyCharm 下 TVTK、Mayavi、Traits 库的安装\n",
    "https://blog.csdn.net/sinat_27421407/article/details/78740065\n",
    "\n",
    "\n",
    "Python 可视化基础——tvtk库的使用\n",
    "\n",
    "物理学 话题的优秀回答者\n",
    "7 人赞了该文章\n",
    "一、tvtk库的安装\n",
    "\n",
    "下载 VTK-7.1.1-cp36 TVTK -cp36m-win_amd64.whl\n",
    "https://www.lfd.uci.edu/~gohlke/pythonlibs/#vtk\n",
    "库的安装\n",
    "“以管理员身份运行”cmd\n",
    "在下载目录执行pip install VTK-7.1.1-cp36-cp36m-win_amd64.whl\n",
    "\n",
    "\n",
    "VTK‑7.1.1‑cp34‑cp34m‑win_amd64.whl\n",
    "VTK‑7.1.1‑cp35‑cp35m‑win32.whl\n",
    "VTK‑7.1.1‑cp35‑cp35m‑win_amd64.whl\n",
    "VTK‑7.1.1‑cp36‑cp36m‑win32.whl\n",
    "VTK‑7.1.1‑cp36‑cp36m‑win_amd64.whl\n",
    "VTK‑8.1.1‑cp35‑cp35m‑win32.whl\n",
    "VTK‑8.1.1‑cp35‑cp35m‑win_amd64.whl\n",
    "VTK‑8.1.1‑cp36‑cp36m‑win32.whl\n",
    "VTK‑8.1.1‑cp36‑cp36m‑win_amd64.whl\n",
    "VTK‑8.1.1‑cp37‑cp37m‑win32.whl\n",
    "VTK‑8.1.1‑cp37‑cp37m‑win_amd64.whl\n",
    "\n",
    "###\n",
    "和Matlab不同，Python的科学软件包由众多的社区维护和发布，因此要一一将其收集齐安装到你的电脑里是一件很费时间的事情。幸好这些工作已经有人帮我们整理好了。只需要下载一个文件，一次安装就能拥有众多的函数库可供使用。\n",
    "\n",
    "这里介绍两个科学计算Python合集的下载和安装过程。\n",
    "\n",
    "\n",
    "##Mac环境\n",
    "安装步骤：\n",
    "根据需要的版本下载anaconda，此文中以Python 3.6 version为例anaconda下载地址\n",
    "下载后安装并运行anaconda\n",
    "配置anaconda环境变量，此处默认也可，根据自身实际安装位置进行配置\n",
    "打开终端，依次输入如下命令进行安装：\n",
    "\n",
    "conda install vtk\n",
    "conda install numpy\n",
    "conda install traits\n",
    "conda install mayavi\n",
    "conda install PyQt\n",
    "安装结果测试：\n",
    "终端输入python即可打开idle，此时输入以下命令：\n",
    "\n",
    "from tvtk.tools import tvtk_doc\n",
    "tvtk_doc.main()\n",
    "\n",
    "\n",
    "\n",
    "C盘建立文件夹把下面的考进去py36\n",
    "基础环境搭好，按照提示下载所需的库文件，是Unofficial的，依次安装：\n",
    "VTK-7.1.1-cp36-cp36m-win_amd64.whl\n",
    "numpy-1.12.1+mkl-cp36-cp36m-win_amd64.whl\n",
    "traits-4.6.0-cp36-cp36m-win_amd64.whl\n",
    "mayavi-4.5.0+vtk71-cp36-cp36m-win_amd64.whl\n",
    "PyQt4-4.11.4-cp36-cp36m-win_amd64.whl\n",
    "C:\\ py36激活py36环境，这是我的下载文件目录\n",
    "(py36) C:\\ py36>pip install VTK-7.1.1-cp36-cp36m-win_amd64.whl\n",
    "C:\\ py36\\vtk-7.1.1-cp36-cp36m-win_amd64.whl\n",
    "Installing collected packages: VTK\n",
    "Successfully installed VTK-7.1.1\n",
    "....\n",
    "C:\\ py36>pip install PyQt4-4.11.4-cp36-cp36m-win_amd64.whl\n",
    "C:\\ py36>pyqt4-4.11.4-cp36-cp36m-win_amd64.whl\n",
    "Installing collected packages: PyQt4\n",
    "Successfully installed PyQt4-4.11.4\n"
   ]
  },
  {
   "cell_type": "code",
   "execution_count": null,
   "metadata": {},
   "outputs": [],
   "source": []
  },
  {
   "cell_type": "code",
   "execution_count": 1,
   "metadata": {},
   "outputs": [
    {
     "ename": "FileNotFoundError",
     "evalue": "[Errno 2] No such file or directory: 'city.txt'",
     "output_type": "error",
     "traceback": [
      "\u001b[1;31m---------------------------------------------------------------------------\u001b[0m",
      "\u001b[1;31mFileNotFoundError\u001b[0m                         Traceback (most recent call last)",
      "\u001b[1;32m<ipython-input-1-a77960f6cee8>\u001b[0m in \u001b[0;36m<module>\u001b[1;34m()\u001b[0m\n\u001b[0;32m     52\u001b[0m     \u001b[1;31m# 在if __name__ == 'main': 下的代码只有在第一种情况下（即文件作为脚本直接执行）才会被执行\u001b[0m\u001b[1;33m\u001b[0m\u001b[1;33m\u001b[0m\u001b[0m\n\u001b[0;32m     53\u001b[0m     \u001b[1;31m# 而import到其他脚本中是不会被执行的\u001b[0m\u001b[1;33m\u001b[0m\u001b[1;33m\u001b[0m\u001b[0m\n\u001b[1;32m---> 54\u001b[1;33m     \u001b[0mdata\u001b[0m\u001b[1;33m,\u001b[0m \u001b[0mcityName\u001b[0m \u001b[1;33m=\u001b[0m \u001b[0mloadData\u001b[0m\u001b[1;33m(\u001b[0m\u001b[1;34m'city.txt'\u001b[0m\u001b[1;33m)\u001b[0m  \u001b[1;31m# 调用loadData方法,获取两个列表\u001b[0m\u001b[1;33m\u001b[0m\u001b[0m\n\u001b[0m\u001b[0;32m     55\u001b[0m     \u001b[1;31m# 'city.txt'使用了相对路径\u001b[0m\u001b[1;33m\u001b[0m\u001b[1;33m\u001b[0m\u001b[0m\n\u001b[0;32m     56\u001b[0m     \u001b[0mkm\u001b[0m \u001b[1;33m=\u001b[0m \u001b[0mKMeans\u001b[0m\u001b[1;33m(\u001b[0m\u001b[0mn_clusters\u001b[0m\u001b[1;33m=\u001b[0m\u001b[1;36m4\u001b[0m\u001b[1;33m)\u001b[0m  \u001b[1;31m# n_clusters用于指定聚类中心的个数\u001b[0m\u001b[1;33m\u001b[0m\u001b[0m\n",
      "\u001b[1;32m<ipython-input-1-a77960f6cee8>\u001b[0m in \u001b[0;36mloadData\u001b[1;34m(filePath)\u001b[0m\n\u001b[0;32m      5\u001b[0m \u001b[1;31m# 定义一个读取数据的方法loadData(filePath),传入参数filePah为数据源文件在计算机中的路径\u001b[0m\u001b[1;33m\u001b[0m\u001b[1;33m\u001b[0m\u001b[0m\n\u001b[0;32m      6\u001b[0m \u001b[1;32mdef\u001b[0m \u001b[0mloadData\u001b[0m\u001b[1;33m(\u001b[0m\u001b[0mfilePath\u001b[0m\u001b[1;33m)\u001b[0m\u001b[1;33m:\u001b[0m\u001b[1;33m\u001b[0m\u001b[0m\n\u001b[1;32m----> 7\u001b[1;33m     \u001b[0mfr\u001b[0m \u001b[1;33m=\u001b[0m \u001b[0mopen\u001b[0m\u001b[1;33m(\u001b[0m\u001b[0mfilePath\u001b[0m\u001b[1;33m,\u001b[0m \u001b[1;34m'r+'\u001b[0m\u001b[1;33m)\u001b[0m  \u001b[1;31m# 打开指定文件,获取原始数据\u001b[0m\u001b[1;33m\u001b[0m\u001b[0m\n\u001b[0m\u001b[0;32m      8\u001b[0m \u001b[1;33m\u001b[0m\u001b[0m\n\u001b[0;32m      9\u001b[0m     \u001b[1;31m# open()函数打开一个文件\u001b[0m\u001b[1;33m\u001b[0m\u001b[1;33m\u001b[0m\u001b[0m\n",
      "\u001b[1;31mFileNotFoundError\u001b[0m: [Errno 2] No such file or directory: 'city.txt'"
     ]
    }
   ],
   "source": [
    "import numpy as np  # 导入numpy包\n",
    "from sklearn.cluster import KMeans  # 导入KMeans包\n",
    "\n",
    "\n",
    "# 定义一个读取数据的方法loadData(filePath),传入参数filePah为数据源文件在计算机中的路径\n",
    "def loadData(filePath):\n",
    "    fr = open(filePath, 'r+')  # 打开指定文件,获取原始数据\n",
    "\n",
    "    # open()函数打开一个文件\n",
    "    # 第一个参数是文件的路径,格式是字符串\n",
    "    # 路径可以是相对路径,也可以是绝对路径\n",
    "    # 在windows下用\\\\分割路径,在OSX下用/分割\n",
    "    # 第二个参数是打开方式,默认为'r',表示只读\n",
    "    # 此处的'r+'表示可读可写 不会创建不存在的文件 从顶部开始写 会覆盖之前此位置的内容\n",
    "    # open()函数返回一个File对象\n",
    "    # File对象代表计算机中的一个文件,只是Python中另一种类型的值,类似列表和字典\n",
    "    # 此处open()函数返回的File文件保存在变量fr里\n",
    "    # 当需要读写文件时,调用fr变量中File对象的方法\n",
    "\n",
    "    lines = fr.readlines()  # 读取文件,得到文件中的每一行\n",
    "    # readline()方法从当前File文件对象取得一个字符串列表\n",
    "    # 列表中的每个字符串就是文本中的一行\n",
    "\n",
    "    retData = []  # 定义一个空列表,存储城市的房租数据\n",
    "    retCityName = []  # 定义一个空列表,存储城市名称数据\n",
    "    for line in lines:  # 用for循环依次读取数据的每一行,每一行是一个城市\n",
    "        items = line.strip().split(\",\")  # 切片后得到一个新的列表items\n",
    "\n",
    "        # Python strip() 方法用于移除字符串头尾指定的字符（默认为空格）\n",
    "        # Python split() 通过指定分隔符对字符串进行切片\n",
    "        # str.split(str=\"\", num=string.count(str)). 可传入两个参数str和num\n",
    "        # str -- 分隔符，默认为所有的空字符，包括空格、换行(\\n)、制表符(\\t)等。\n",
    "        # num -- 分割次数。如果参数num 有指定值，则仅分隔 num 个子字符串\n",
    "\n",
    "        retCityName.append(items[0])  # items中的第一个元素是城市名称,将其加入城市名称列表\n",
    "        # append() 方法用于在列表末尾添加新的对象。\n",
    "\n",
    "        retData.append([float(items[i]) for i in range(1, len(items))])\n",
    "\n",
    "        # 使用列表解析的方法从items的第二个元素开始读取,边读取边将数据转化为float类型\n",
    "        # range(start, end, scan) 生成一个整数列表\n",
    "        # 第一个参数start表示起始数字,end表示结尾数字,scan表示步长,默认为1\n",
    "\n",
    "    return retData, retCityName  # 返回城市名称和城市房租数据两个列表\n",
    "\n",
    "\n",
    "if __name__ == '__main__':\n",
    "    #  一个python的文件有两种使用的方法\n",
    "    # 第一是直接作为脚本执行\n",
    "    # 第二是import到其他的python脚本中被调用（模块重用）执行\n",
    "    # 因此if __name__ == 'main': 的作用就是控制这两种情况执行代码的过程\n",
    "    # 在if __name__ == 'main': 下的代码只有在第一种情况下（即文件作为脚本直接执行）才会被执行\n",
    "    # 而import到其他脚本中是不会被执行的\n",
    "    data, cityName = loadData('city.txt')  # 调用loadData方法,获取两个列表\n",
    "    # 'city.txt'使用了相对路径\n",
    "    km = KMeans(n_clusters=4)  # n_clusters用于指定聚类中心的个数\n",
    "    # KMeans(n_clusters, init, max_iter) 方法来自sklearn.cluster下的KMeans包\n",
    "    # n_cluster用于指定聚类中心的个数,一般只用这一个参数\n",
    "    # init初始聚类中心的初始化方法.默认是k-means++\n",
    "    # max_iter最大的迭代次数,默认是300\n",
    "    # 本例中变量km是KMeans返回的一个KMeans类对象\n",
    "    label = km.fit_predict(data)  # fit_predict计算簇中心，同时为簇分配序号\n",
    "    # fit_predict 实际上调用了KMeans类中的fit方法，并返回label\n",
    "    # label是聚类后各数据所属标签\n",
    "    # Compute cluster centers and predict cluster index for each sample\n",
    "    expenses = np.sum(km.cluster_centers_, axis=1)\n",
    "    # numpy.sum(a, axis=None)是numpy的函数\n",
    "    # 按照给定的轴(第二个参数axis)计算数组(第一个参数a)的和\n",
    "    # axis默认为None,简单对所有数值相加; axis=0表示按列相加; axis=1表示按行相加\n",
    "    # 最终返回结果的类型是ndarray\n",
    "    CityCluster = [[], [], [], []]  # 定义有4个元素的列表\n",
    "    # 4与之前指定聚类中心的个数相同\n",
    "    # 每个元素本身又是一个空列表,稍后用来存储城市名称\n",
    "    for i in range(len(cityName)):\n",
    "        CityCluster[label[i]].append(cityName[i])  # 将城市按 label 分成设定的簇\n",
    "        # label[i]得到一个整数,作为CityCluster的下标\n",
    "        # CityCluster[label[i]]得到CityCluster中的第label[i]个元素\n",
    "        # 因为CityCluster中的第label[i]个元素也是列表,所以使用append方法添加元素\n",
    "        # CityCluster[label[i]].append(cityName[i])就是向列表CityCluster[label[i]]中添加cityName[i]\n",
    "    for i in range(len(CityCluster)):\n",
    "        print(\"Expenses:%.2f\" % expenses[i])  # 将每个簇的平均花费输出\n",
    "        # python对字符串操作时定义了%二进制操作符\n",
    "        # %左侧是一个字符串，这个字符串里也有1个或多个百分号%,相当于占位符，是要嵌入的转换目标\n",
    "        # %右侧是用来插入到左侧转换目标位置上去的对象，如果是多个对象，把多个对象嵌入到元组中\n",
    "        # 嵌入一个对象的例子：\n",
    "        # 'The sum of 1 + 2 is %d ' % 3  # %d 表示十进制整数\n",
    "        # 打印结果是 The sum of 1 + 2 is 3\n",
    "        # 嵌入多个对象的例子：\n",
    "        # 'The %s of 1 + is %d ' % ('sum', 3)  # %s表示字符串(或任何对象)，%d 表示十进制整数\n",
    "        # 打印结果是 The sum of 1 + 2 is 3\n",
    "        # 这里因为要分别嵌入'sum'和3两个对象,所以将这两个对象嵌入到元组中('sum', 3)\n",
    "        # python字符串格式化有非常多的用法，细节可参照《Python学习手册》第七章192页到207页\n",
    "        # 接下来只针对本段代码中的使用进行解释\n",
    "        # \"Expenses:%.2f\" % expenses[i]\n",
    "        # 中间的百分号%将表达式分为左右两部分\n",
    "        # 百分号%左侧是字符串 \"Expenses:%.2f\"\n",
    "        # %.f表示浮点十进制,\"Expenses:%.2f\"中的%.2f表示浮点十进制保留2位小数\n",
    "        # 百分号%右侧是对象expenses[i]\n",
    "        # \"Expenses:%.2f\" % expenses[i]完整含义:\n",
    "        # 将expenses[i]嵌入到%.2f的位置,转换为浮点十进制并保留2位小数\n",
    "        print(CityCluster[i])  # 将每个簇的城市输出\n",
    "\n",
    "# 参考书目：\n",
    "# • 《Python学习手册》，作者Mark Lutz，译者李军，刘红伟等\n",
    "# • 《Python编程快速上手——让繁琐工作自动化》,作者Al Sweigart, 译者王海鹏\n",
    "# • 《利用Python进行数据分析》,作者Wes McKinney,译者唐学韬\n",
    "# • 注释中的一些描述，直接从书中摘取了原句"
   ]
  },
  {
   "cell_type": "code",
   "execution_count": null,
   "metadata": {},
   "outputs": [],
   "source": []
  },
  {
   "cell_type": "markdown",
   "metadata": {},
   "source": [
    "PyCharm 下 TVTK、Mayavi、Traits 库的安装\n",
    "\n",
    "https://blog.csdn.net/sinat_27421407/article/details/78740065\n"
   ]
  },
  {
   "cell_type": "code",
   "execution_count": 2,
   "metadata": {},
   "outputs": [
    {
     "data": {
      "text/plain": [
       "array([[ 1,  2,  3,  4],\n",
       "       [ 4,  5,  6,  7],\n",
       "       [ 7,  8,  9, 10]])"
      ]
     },
     "execution_count": 2,
     "metadata": {},
     "output_type": "execute_result"
    }
   ],
   "source": [
    "import numpy as np\n",
    "\n",
    "a = np.array([1, 2, 3, 4])\n",
    "b = np.array([[1, 2, 3, 4], [4, 5, 6, 7], [7, 8, 9, 10]])\n",
    "b"
   ]
  },
  {
   "cell_type": "code",
   "execution_count": 3,
   "metadata": {},
   "outputs": [
    {
     "data": {
      "text/plain": [
       "array([[4, 9, 2],\n",
       "       [3, 5, 7],\n",
       "       [8, 1, 6]])"
      ]
     },
     "execution_count": 3,
     "metadata": {},
     "output_type": "execute_result"
    }
   ],
   "source": [
    "import numpy as np\n",
    "\n",
    "\n",
    "b = np.array([[4,9,2], [3,5,7], [8,1,6]])\n",
    "b"
   ]
  },
  {
   "cell_type": "code",
   "execution_count": 4,
   "metadata": {},
   "outputs": [
    {
     "ename": "ValueError",
     "evalue": "only 2 non-keyword arguments accepted",
     "output_type": "error",
     "traceback": [
      "\u001b[1;31m---------------------------------------------------------------------------\u001b[0m",
      "\u001b[1;31mValueError\u001b[0m                                Traceback (most recent call last)",
      "\u001b[1;32m<ipython-input-4-bc262047b94b>\u001b[0m in \u001b[0;36m<module>\u001b[1;34m()\u001b[0m\n\u001b[0;32m      2\u001b[0m \u001b[1;33m\u001b[0m\u001b[0m\n\u001b[0;32m      3\u001b[0m \u001b[1;33m\u001b[0m\u001b[0m\n\u001b[1;32m----> 4\u001b[1;33m \u001b[0mb\u001b[0m \u001b[1;33m=\u001b[0m \u001b[0mnp\u001b[0m\u001b[1;33m.\u001b[0m\u001b[0marray\u001b[0m\u001b[1;33m(\u001b[0m\u001b[1;33m[\u001b[0m\u001b[1;36m4\u001b[0m\u001b[1;33m,\u001b[0m\u001b[1;36m9\u001b[0m\u001b[1;33m,\u001b[0m\u001b[1;36m2\u001b[0m\u001b[1;33m]\u001b[0m\u001b[1;33m,\u001b[0m \u001b[1;33m[\u001b[0m\u001b[1;36m3\u001b[0m\u001b[1;33m,\u001b[0m\u001b[1;36m5\u001b[0m\u001b[1;33m,\u001b[0m\u001b[1;36m7\u001b[0m\u001b[1;33m]\u001b[0m\u001b[1;33m,\u001b[0m \u001b[1;33m[\u001b[0m\u001b[1;36m8\u001b[0m\u001b[1;33m,\u001b[0m\u001b[1;36m1\u001b[0m\u001b[1;33m,\u001b[0m\u001b[1;36m6\u001b[0m\u001b[1;33m]\u001b[0m\u001b[1;33m)\u001b[0m\u001b[1;33m\u001b[0m\u001b[0m\n\u001b[0m\u001b[0;32m      5\u001b[0m \u001b[0mb\u001b[0m\u001b[1;33m\u001b[0m\u001b[0m\n",
      "\u001b[1;31mValueError\u001b[0m: only 2 non-keyword arguments accepted"
     ]
    }
   ],
   "source": []
  },
  {
   "cell_type": "code",
   "execution_count": null,
   "metadata": {},
   "outputs": [],
   "source": []
  },
  {
   "cell_type": "code",
   "execution_count": null,
   "metadata": {},
   "outputs": [],
   "source": []
  },
  {
   "cell_type": "code",
   "execution_count": null,
   "metadata": {},
   "outputs": [],
   "source": []
  }
 ],
 "metadata": {
  "kernelspec": {
   "display_name": "Python 3",
   "language": "python",
   "name": "python3"
  },
  "language_info": {
   "codemirror_mode": {
    "name": "ipython",
    "version": 3
   },
   "file_extension": ".py",
   "mimetype": "text/x-python",
   "name": "python",
   "nbconvert_exporter": "python",
   "pygments_lexer": "ipython3",
   "version": "3.6.5"
  }
 },
 "nbformat": 4,
 "nbformat_minor": 2
}
