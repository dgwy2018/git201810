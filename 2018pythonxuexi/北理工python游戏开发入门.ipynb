{
 "cells": [
  {
   "cell_type": "code",
   "execution_count": null,
   "metadata": {},
   "outputs": [],
   "source": []
  },
  {
   "cell_type": "markdown",
   "metadata": {},
   "source": [
    "\n",
    "\n",
    "Python游戏开发入门：pygame色彩与绘图机制-4\n",
    "\n",
    "\n"
   ]
  },
  {
   "cell_type": "markdown",
   "metadata": {},
   "source": [
    "\n",
    "\n",
    "python3-声音处理\n",
    "\n",
    "python 声音\n",
    "\n",
    "python3 pygame学习（2）：使用pygame加载音乐\n",
    "\n",
    "\n"
   ]
  },
  {
   "cell_type": "markdown",
   "metadata": {},
   "source": [
    "\n",
    "Python游戏开发入门：pygame实例运动的小球-5\n",
    "\n",
    "\n",
    "\n",
    "【MOOC】Python游戏开发入门-北京理工大学【第二部分-游戏开发之框架】\n",
    "\n",
    "【1】【MOOC】Python游戏开发入门-北京理工大学【第二部分-游戏开发之框架】\n",
    "http://www.mamicode.com/info-detail-2116713.html\n",
    "\n",
    "《Python和Pygame游戏开发指南》——1.10　下载图形文件和声音文件\n",
    "\n",
    "书单:10本最经典的Python编程语言入门书籍\n",
    "\n",
    "\n",
    "\n",
    "###Matplotlib 画动态图: animation模块的使用\n"
   ]
  },
  {
   "cell_type": "code",
   "execution_count": 4,
   "metadata": {},
   "outputs": [
    {
     "data": {
      "image/png": "[encoded data removed]",
      "text/plain": [
       "<Figure size 432x288 with 1 Axes>"
      ]
     },
     "metadata": {},
     "output_type": "display_data"
    }
   ],
   "source": [
    "# -*- coding: utf-8 -*-\n",
    "\"\"\"\n",
    "Created on Thu Sep 20 15:00:42 2018\n",
    "\n",
    "@author: Administrator\n",
    "\"\"\"\n",
    "\n",
    "import numpy as np\n",
    "import matplotlib.pyplot as plt\n",
    "from matplotlib.animation import FuncAnimation\n",
    "\n",
    "fig, ax = plt.subplots()\n",
    "xdata, ydata = [], []\n",
    "ln, = ax.plot([], [], 'r-', animated=False)\n",
    "\n",
    "def init():\n",
    "    ax.set_xlim(0, 2*np.pi)\n",
    "    ax.set_ylim(-1, 1)\n",
    "    return ln,\n",
    "\n",
    "def update(frame):\n",
    "    xdata.append(frame)\n",
    "    ydata.append(np.sin(frame))\n",
    "    ln.set_data(xdata, ydata)\n",
    "    return ln,\n",
    "\n",
    "ani = FuncAnimation(fig, update, frames=np.linspace(0, 2*np.pi, 128),\n",
    "                    init_func=init, blit=True)\n",
    "plt.show()\n"
   ]
  },
  {
   "cell_type": "code",
   "execution_count": 1,
   "metadata": {
    "scrolled": true
   },
   "outputs": [
    {
     "ename": "ModuleNotFoundError",
     "evalue": "No module named 'Image'",
     "output_type": "error",
     "traceback": [
      "\u001b[1;31m---------------------------------------------------------------------------\u001b[0m",
      "\u001b[1;31mModuleNotFoundError\u001b[0m                       Traceback (most recent call last)",
      "\u001b[1;32m<ipython-input-1-b4eb98de50ee>\u001b[0m in \u001b[0;36m<module>\u001b[1;34m()\u001b[0m\n\u001b[0;32m      1\u001b[0m \u001b[1;33m\u001b[0m\u001b[0m\n\u001b[1;32m----> 2\u001b[1;33m \u001b[1;32mimport\u001b[0m \u001b[0mImage\u001b[0m\u001b[1;33m\u001b[0m\u001b[0m\n\u001b[0m\u001b[0;32m      3\u001b[0m \u001b[1;32mimport\u001b[0m \u001b[0mImageDraw\u001b[0m\u001b[1;33m\u001b[0m\u001b[0m\n\u001b[0;32m      4\u001b[0m \u001b[0mim\u001b[0m \u001b[1;33m=\u001b[0m \u001b[0mImage\u001b[0m\u001b[1;33m.\u001b[0m\u001b[0mopen\u001b[0m\u001b[1;33m(\u001b[0m\u001b[1;34m\"c:\\1308.jpg\"\u001b[0m\u001b[1;33m)\u001b[0m\u001b[1;33m\u001b[0m\u001b[0m\n\u001b[0;32m      5\u001b[0m \u001b[0mtransparent_area\u001b[0m \u001b[1;33m=\u001b[0m \u001b[1;33m(\u001b[0m\u001b[1;36m50\u001b[0m\u001b[1;33m,\u001b[0m\u001b[1;36m80\u001b[0m\u001b[1;33m,\u001b[0m\u001b[1;36m100\u001b[0m\u001b[1;33m,\u001b[0m\u001b[1;36m200\u001b[0m\u001b[1;33m)\u001b[0m\u001b[1;33m\u001b[0m\u001b[0m\n",
      "\u001b[1;31mModuleNotFoundError\u001b[0m: No module named 'Image'"
     ]
    }
   ],
   "source": [
    "\n",
    "import Image\n",
    "import ImageDraw\n",
    "im = Image.open(\"c:\\1308.jpg\")\n",
    "transparent_area = (50,80,100,200)\n",
    "transparent=100  #用来调透明度，具体可以自己试\n",
    "mask=Image.new('L', im.size, color=transparent)\n",
    "draw=ImageDraw.Draw(mask) \n",
    "draw.rectangle(transparent_area, fill=0)\n",
    "im.putalpha(mask)\n",
    "im.save('image.png')"
   ]
  },
  {
   "cell_type": "code",
   "execution_count": null,
   "metadata": {},
   "outputs": [],
   "source": []
  },
  {
   "cell_type": "code",
   "execution_count": null,
   "metadata": {},
   "outputs": [],
   "source": []
  },
  {
   "cell_type": "code",
   "execution_count": null,
   "metadata": {},
   "outputs": [],
   "source": []
  },
  {
   "cell_type": "code",
   "execution_count": 1,
   "metadata": {},
   "outputs": [
    {
     "name": "stdout",
     "output_type": "stream",
     "text": [
      "pygame 1.9.4\n",
      "Hello from the pygame community. https://www.pygame.org/contribute.html\n"
     ]
    },
    {
     "ename": "NameError",
     "evalue": "name 'xrange' is not defined",
     "output_type": "error",
     "traceback": [
      "\u001b[1;31m---------------------------------------------------------------------------\u001b[0m",
      "\u001b[1;31mNameError\u001b[0m                                 Traceback (most recent call last)",
      "\u001b[1;32m<ipython-input-1-092741f10adb>\u001b[0m in \u001b[0;36m<module>\u001b[1;34m()\u001b[0m\n\u001b[0;32m     23\u001b[0m \u001b[1;33m\u001b[0m\u001b[0m\n\u001b[0;32m     24\u001b[0m     \u001b[0mscreen\u001b[0m\u001b[1;33m.\u001b[0m\u001b[0mlock\u001b[0m\u001b[1;33m(\u001b[0m\u001b[1;33m)\u001b[0m\u001b[1;33m\u001b[0m\u001b[0m\n\u001b[1;32m---> 25\u001b[1;33m     \u001b[1;32mfor\u001b[0m \u001b[0mi\u001b[0m \u001b[1;32min\u001b[0m \u001b[0mxrange\u001b[0m\u001b[1;33m(\u001b[0m\u001b[1;36m100\u001b[0m\u001b[1;33m)\u001b[0m\u001b[1;33m:\u001b[0m\u001b[1;33m\u001b[0m\u001b[0m\n\u001b[0m\u001b[0;32m     26\u001b[0m         \u001b[0mrand_col\u001b[0m \u001b[1;33m=\u001b[0m \u001b[1;33m(\u001b[0m\u001b[0mrandint\u001b[0m\u001b[1;33m(\u001b[0m\u001b[1;36m0\u001b[0m\u001b[1;33m,\u001b[0m \u001b[1;36m255\u001b[0m\u001b[1;33m)\u001b[0m\u001b[1;33m,\u001b[0m \u001b[0mrandint\u001b[0m\u001b[1;33m(\u001b[0m\u001b[1;36m0\u001b[0m\u001b[1;33m,\u001b[0m \u001b[1;36m255\u001b[0m\u001b[1;33m)\u001b[0m\u001b[1;33m,\u001b[0m \u001b[0mrandint\u001b[0m\u001b[1;33m(\u001b[0m\u001b[1;36m0\u001b[0m\u001b[1;33m,\u001b[0m \u001b[1;36m255\u001b[0m\u001b[1;33m)\u001b[0m\u001b[1;33m)\u001b[0m\u001b[1;33m\u001b[0m\u001b[0m\n\u001b[0;32m     27\u001b[0m         \u001b[0mrand_pos\u001b[0m \u001b[1;33m=\u001b[0m \u001b[1;33m(\u001b[0m\u001b[0mrandint\u001b[0m\u001b[1;33m(\u001b[0m\u001b[1;36m0\u001b[0m\u001b[1;33m,\u001b[0m \u001b[1;36m639\u001b[0m\u001b[1;33m)\u001b[0m\u001b[1;33m,\u001b[0m \u001b[0mrandint\u001b[0m\u001b[1;33m(\u001b[0m\u001b[1;36m0\u001b[0m\u001b[1;33m,\u001b[0m \u001b[1;36m479\u001b[0m\u001b[1;33m)\u001b[0m\u001b[1;33m)\u001b[0m\u001b[1;33m\u001b[0m\u001b[0m\n",
      "\u001b[1;31mNameError\u001b[0m: name 'xrange' is not defined"
     ]
    }
   ],
   "source": [
    "#coding=utf-8\n",
    "'''\n",
    "Created on 2017年3月4日\n",
    "@author: zxt\n",
    "'''\n",
    "import pygame\n",
    "from pygame.locals import QUIT\n",
    "from sys import exit\n",
    "from random import randint\n",
    "import time\n",
    " \n",
    "pygame.init()\n",
    "screen = pygame.display.set_mode((640, 480), 0, 32)\n",
    " \n",
    "while True:\n",
    "    \n",
    "    for event in pygame.event.get():\n",
    "        if event.type == QUIT:\n",
    "            pygame.display.quit()\n",
    "            exit()\n",
    "    \n",
    "    screen.fill((255, 255, 255))\n",
    "    \n",
    "    screen.lock()\n",
    "    for i in xrange(100):\n",
    "        rand_col = (randint(0, 255), randint(0, 255), randint(0, 255))\n",
    "        rand_pos = (randint(0, 639), randint(0, 479))\n",
    "        pygame.draw.rect(screen, rand_col, (rand_pos, (3, 3)))\n",
    "        #screen.set_at(rand_pos, rand_col)\n",
    "        time.sleep(0.01)\n",
    "    screen.unlock()\n",
    "            \n",
    "    pygame.display.update()"
   ]
  },
  {
   "cell_type": "code",
   "execution_count": null,
   "metadata": {},
   "outputs": [],
   "source": []
  },
  {
   "cell_type": "code",
   "execution_count": 2,
   "metadata": {},
   "outputs": [
    {
     "ename": "SystemExit",
     "evalue": "",
     "output_type": "error",
     "traceback": [
      "An exception has occurred, use %tb to see the full traceback.\n",
      "\u001b[1;31mSystemExit\u001b[0m\n"
     ]
    },
    {
     "name": "stderr",
     "output_type": "stream",
     "text": [
      "E:\\program\\anaconda3\\lib\\site-packages\\IPython\\core\\interactiveshell.py:2971: UserWarning: To exit: use 'exit', 'quit', or Ctrl-D.\n",
      "  warn(\"To exit: use 'exit', 'quit', or Ctrl-D.\", stacklevel=1)\n"
     ]
    }
   ],
   "source": [
    "import pygame\n",
    "import pygame, sys\n",
    "\n",
    "pygame.init()\n",
    "screen = pygame.display.set_mode((600, 400))\n",
    "pygame.display.set_caption(\"pygame游戏之旅\")\n",
    "\n",
    "while True:\n",
    "    for event in pygame.event.get():\n",
    "        if event.type == pygame.QUIT:\n",
    "            sys.exit()\n",
    "\n",
    "    pygame.display.update()"
   ]
  },
  {
   "cell_type": "code",
   "execution_count": null,
   "metadata": {},
   "outputs": [],
   "source": []
  },
  {
   "cell_type": "code",
   "execution_count": null,
   "metadata": {},
   "outputs": [],
   "source": [
    "\n",
    "#!/usr/local/bin/python3\n",
    " \n",
    "import random\n",
    " \n",
    "bot=int(input('Set range bottom\\n'))\n",
    "top=int(input('Set range top\\n'))\n",
    "rand=random.randint(bot,top)\n",
    "print ('Random number in ['+str(bot)+','+str(top)+'] generated!')\n",
    "num=int(input('###Guess the number###\\n'))\n",
    "cnt=1\n",
    "while (num!=rand):\n",
    "\tif (num<rand):\n",
    "\t\tprint('*_* Lower than the answer')\n",
    "\telse:\n",
    "\t\tprint('T_T Higher than the answer')\n",
    "\tnum=int(input('###Guess the number###\\n'))\n",
    "\tcnt=cnt+1\n",
    "print('^_^ You get the answer with [%d] times'%cnt)"
   ]
  },
  {
   "cell_type": "code",
   "execution_count": null,
   "metadata": {},
   "outputs": [],
   "source": []
  },
  {
   "cell_type": "code",
   "execution_count": null,
   "metadata": {},
   "outputs": [],
   "source": []
  },
  {
   "cell_type": "code",
   "execution_count": null,
   "metadata": {},
   "outputs": [],
   "source": []
  },
  {
   "cell_type": "code",
   "execution_count": null,
   "metadata": {},
   "outputs": [],
   "source": []
  },
  {
   "cell_type": "code",
   "execution_count": null,
   "metadata": {},
   "outputs": [],
   "source": []
  },
  {
   "cell_type": "code",
   "execution_count": null,
   "metadata": {},
   "outputs": [],
   "source": []
  },
  {
   "cell_type": "code",
   "execution_count": null,
   "metadata": {},
   "outputs": [],
   "source": []
  },
  {
   "cell_type": "code",
   "execution_count": null,
   "metadata": {},
   "outputs": [],
   "source": [
    "#python趣味入门——写几个常玩的游戏\n",
    "\n",
    "import time\n",
    "num = int(input('有多少组玩家\\n'))\n",
    "guessWord = []\n",
    "correct = []\n",
    "#定义列表，num+10是不想让guessWord下标不合法\n",
    "for i in range(0,num+10):\n",
    "\tguessWord.append(0)\n",
    "\tcorrect.append(0)\n",
    "wordNum=10\n",
    "guessWord[0] = ['打情骂俏','海绵宝宝','娇媚','金鸡独立','狼吞虎咽','睡眼朦胧','鹤立鸡群','手舞足蹈','卓别林','穿越火线']\n",
    "guessWord[1] = ['眉飞色舞','英雄联盟','扭秧歌','偷看美女','大摇大摆','回眸一笑','市场营销','大眼瞪小眼','自恋','处女座']\n",
    "guessWord[2] = ['狗急跳墙','捧腹大笑','目不转睛','愁眉苦脸','左顾右盼','宫保鸡丁','升国旗','暗恋','臭袜子','趁火打劫']\n",
    " \n",
    "flag='n'\n",
    " \n",
    "for i in range(0,num):\n",
    "\tstart = time.time()\n",
    "\tfor k in range(0,wordNum):\n",
    "\t\t#显示词语\n",
    "\t\tprint (('%d.%s')%(k+1,guessWord[i][k]))\n",
    "\t\n",
    "\t\tflag = input('请答题,答对请输入y,跳过请输入任意键')\n",
    "\t\tend = time.time()\n",
    "\t\tsec = end-start\n",
    "\t\t#统计用时\n",
    "\t\tif (110<=sec<=120):\n",
    "\t\t\tprint ('还有10秒钟')\n",
    "\t\tif (sec>=120):\n",
    "\t\t\tprint ('时间到！游戏结束')\n",
    "\t\t\tbreak\n",
    "\t\t\n",
    "\t\tif (flag=='y'):\n",
    "\t\t\tcorrect[i]=correct[i]+1\n",
    "\t\t\tcontinue\n",
    "\t\telse:\n",
    "\t\t\tcontinue\n",
    "\tstr_temp=('第%d组答对数目:%d') % (i+1,correct[i])\t\n",
    "\tprint (str_temp)"
   ]
  },
  {
   "cell_type": "code",
   "execution_count": null,
   "metadata": {},
   "outputs": [],
   "source": [
    "import numpy as np\n",
    "import matplotlib.pyplot as plt\n",
    "from matplotlib.animation import FuncAnimation\n",
    "\n",
    "fig, ax = plt.subplots()\n",
    "xdata, ydata = [], []\n",
    "ln, = ax.plot([], [], 'r-', animated=False)\n",
    "\n",
    "def init():\n",
    "    ax.set_xlim(0, 2*np.pi)\n",
    "    ax.set_ylim(-1, 1)\n",
    "    return ln,\n",
    "\n",
    "def update(frame):\n",
    "    xdata.append(frame)\n",
    "    ydata.append(np.sin(frame))\n",
    "    ln.set_data(xdata, ydata)\n",
    "    return ln,\n",
    "\n",
    "ani = FuncAnimation(fig, update, frames=np.linspace(0, 2*np.pi, 128),\n",
    "                    init_func=init, blit=True)\n",
    "plt.show()"
   ]
  },
  {
   "cell_type": "code",
   "execution_count": null,
   "metadata": {},
   "outputs": [],
   "source": [
    "#-*- coding:utf-8 –*- from turtle import *  def HSB2RGB(hues):  hues = hues * 3.59 #100转成359范围  rgb=[0.0,0.0,0.0]  i = int(hues/60)%6 f = hues/60 -i  if i == 0:   rgb[0] = 1; rgb[1] = f; rgb[2] = 0 elif i == 1:   rgb[0] = 1-f; rgb[1] = 1; rgb[2] = 0 elif i == 2:   rgb[0] = 0; rgb[1] = 1; rgb[2] = f  elif i == 3:   rgb[0] = 0; rgb[1] = 1-f; rgb[2] = 1 elif i == 4:   rgb[0] = f; rgb[1] = 0; rgb[2] = 1 elif i == 5:   rgb[0] = 1; rgb[1] = 0; rgb[2] = 1-f  return rgb   def rainbow():  hues = 0.0 color(1,0,0)  #绘制彩虹  hideturtle()  speed(100)  pensize(3)  penup()  goto(-400,-300)  pendown()  right(110)  for i in range (100):   circle(1000)   right(0.13)   hues = hues + 1  rgb = HSB2RGB(hues)   color(rgb[0],rgb[1],rgb[2])   penup()   def main():  setup(800, 600, 0, 0)  bgcolor((0.8, 0.8, 1.0))  tracer(False)  rainbow()  #输出文字  tracer(False)  goto(100,-100)  pendown()  color(\"red\")  write(\"脚本之家\",align=\"center\",    font=(\"Script MT Bold\", 80, \"bold\"))  tracer(True)    mainloop()   if __name__ == \"__main__\":  main()"
   ]
  },
  {
   "cell_type": "code",
   "execution_count": null,
   "metadata": {},
   "outputs": [],
   "source": [
    "import numpy as np\n",
    "import matplotlib.pyplot as plt\n",
    "import matplotlib as mpl\n",
    "\n",
    "from mpl_toolkits.mplot3d import Axes3D\n",
    "\n",
    "mpl.rcParams['font.size'] = 10\n",
    "\n",
    "samples = 25\n",
    "\n",
    "x = np.random.normal(5, 1, samples)\n",
    "y = np.random.normal(3, .5, samples)\n",
    "\n",
    "fig = plt.figure()\n",
    "ax = fig.add_subplot(211, projection='3d')\n",
    "\n",
    "# compute two-dimensional histogram\n",
    "hist, xedges, yedges = np.histogram2d(x, y, bins=10)\n",
    "\n",
    "# compute location of the x,y bar positions\n",
    "elements = (len(xedges) - 1) * (len(yedges) - 1)\n",
    "xpos, ypos = np.meshgrid(xedges[:-1]+.25, yedges[:-1]+.25)\n",
    "\n",
    "xpos = xpos.flatten()\n",
    "ypos = ypos.flatten()\n",
    "zpos = np.zeros(elements)\n",
    "\n",
    "# make every bar the same width in base\n",
    "dx = .1 * np.ones_like(zpos)\n",
    "dy = dx.copy()\n",
    "\n",
    "# this defines the height of the bar\n",
    "dz = hist.flatten()\n",
    "\n",
    "ax.bar3d(xpos, ypos, zpos, dx, dy, dz, color='b', alpha=0.4)\n",
    "ax.set_xlabel('X Axis')\n",
    "ax.set_ylabel('Y Axis')\n",
    "ax.set_zlabel('Z Axis')\n",
    "\n",
    "# plot the same x,y correlation in scatter plot\n",
    "# for comparison\n",
    "ax2 = fig.add_subplot(212)\n",
    "ax2.scatter(x, y)\n",
    "ax2.set_xlabel('X Axis')\n",
    "ax2.set_ylabel('Y Axis') \n",
    "\n",
    "plt.show()"
   ]
  },
  {
   "cell_type": "code",
   "execution_count": null,
   "metadata": {},
   "outputs": [],
   "source": []
  },
  {
   "cell_type": "code",
   "execution_count": null,
   "metadata": {},
   "outputs": [],
   "source": [
    "help(str)\n"
   ]
  },
  {
   "cell_type": "code",
   "execution_count": null,
   "metadata": {},
   "outputs": [],
   "source": [
    "\n",
    "#coding=utf-8\n",
    "import numpy as np\n",
    "import matplotlib.pyplot as plt\n",
    "from mpl_toolkits.mplot3d import Axes3D\n",
    "fig=plt.figure()\n",
    "ax=Axes3D(fig)\n",
    "x=np.arange(-5,5,0.25)\n",
    "y=np.arange(-5,5,0.25)\n",
    "x,y=np.meshgrid(x,y)\n",
    "r=np.sqrt(x**2+y**2)\n",
    "z=np.sin(r)\n",
    "#高度\n",
    "ax.plot_surface(x,y,z,rstride=1,cstride=1,cmap=plt.get_cmap('rainbow'))\n",
    "#填充rainbow颜色\n",
    "ax.contourf(x,y,z,zdir='z',offset=-2,cmap='rainbow')\n",
    "#绘制3D图形,zdir表示从哪个坐标轴上压下去\n",
    "plt.show()\n"
   ]
  },
  {
   "cell_type": "code",
   "execution_count": null,
   "metadata": {},
   "outputs": [],
   "source": [
    "import numpy as np  \n",
    "import matplotlib.pyplot as plt  \n",
    "import matplotlib.animation as animation  \n",
    "start = [1, 0.18, 0.63, 0.29, 0.03, 0.24, 0.86, 0.07, 0.58, 0]  \n",
    "metric =[[0.03, 0.86, 0.65, 0.34, 0.34, 0.02, 0.22, 0.74, 0.66, 0.65],       \n",
    "         [0.43, 0.18, 0.63, 0.29, 0.03, 0.24, 0.86, 0.07, 0.58, 0.55],       \n",
    "         [0.66, 0.75, 0.01, 0.94, 0.72, 0.77, 0.20, 0.66, 0.81, 0.52] ]  \n",
    "fig = plt.figure()  \n",
    "window = fig.add_subplot(111)  \n",
    "line, = window.plot(start)  #如果是参数是list,则默认每次取list中的一个元素, #即metric[0],metric[1],... \n",
    "def update(data):    \n",
    "    line.set_ydata(data)    return line,  \n",
    "ani = animation.FuncAnimation(fig, update, metric, interval=2*1000)  \n",
    "plt.show() \n"
   ]
  },
  {
   "cell_type": "code",
   "execution_count": null,
   "metadata": {},
   "outputs": [],
   "source": []
  }
 ],
 "metadata": {
  "kernelspec": {
   "display_name": "Python 3",
   "language": "python",
   "name": "python3"
  },
  "language_info": {
   "codemirror_mode": {
    "name": "ipython",
    "version": 3
   },
   "file_extension": ".py",
   "mimetype": "text/x-python",
   "name": "python",
   "nbconvert_exporter": "python",
   "pygments_lexer": "ipython3",
   "version": "3.6.5"
  }
 },
 "nbformat": 4,
 "nbformat_minor": 2
}
