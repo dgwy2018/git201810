{
 "cells": [
  {
   "cell_type": "code",
   "execution_count": null,
   "metadata": {},
   "outputs": [],
   "source": []
  },
  {
   "cell_type": "markdown",
   "metadata": {},
   "source": [
    "http://interactivepython.org/runestone/static/thinkcspy/PythonTurtle/toctree.html\n",
    "\n",
    "4. Python Turtle Graphics\n",
    "4.1. Hello Little Turtles!\n",
    "4.2. Our First Turtle Program\n",
    "4.3. Instances — A Herd of Turtles\n",
    "4.4. The for Loop\n",
    "4.5. Flow of Execution of the for Loop\n",
    "4.6. Iteration Simplifies our Turtle Program\n",
    "4.7. The range Function\n",
    "4.8. A Few More turtle Methods and Observations\n",
    "4.9. Summary of Turtle Methods\n",
    "4.10. Glossary\n",
    "4.11. Exercises"
   ]
  },
  {
   "cell_type": "markdown",
   "metadata": {},
   "source": [
    "https://cn.bing.com/images/search?q=python++turtle&id=BDC099E6CDA86F50B28496311C98C37A3D1B4434&FORM=IQFRBA\n",
    "\n",
    "\n",
    "pyhton 绘图案例"
   ]
  },
  {
   "cell_type": "code",
   "execution_count": null,
   "metadata": {},
   "outputs": [],
   "source": []
  },
  {
   "cell_type": "code",
   "execution_count": 4,
   "metadata": {},
   "outputs": [
    {
     "data": {
      "text/plain": [
       "(800, 600)"
      ]
     },
     "execution_count": 4,
     "metadata": {},
     "output_type": "execute_result"
    }
   ],
   "source": [
    "\n",
    "import turtle\n",
    "import time\n",
    "turtle.screensize(800, 600, \"green\")\n",
    "turtle.screensize() #返回默认大小(400, 300)"
   ]
  },
  {
   "cell_type": "code",
   "execution_count": null,
   "metadata": {},
   "outputs": [],
   "source": []
  },
  {
   "cell_type": "code",
   "execution_count": null,
   "metadata": {},
   "outputs": [],
   "source": [
    "# coding=utf-8\n",
    "import turtle\n",
    "import time\n",
    " \n",
    "# 同时设置pencolor=color1, fillcolor=color2\n",
    "turtle.color(\"red\", \"yellow\")\n",
    " \n",
    "turtle.begin_fill()\n",
    "for _ in range(50):\n",
    "    turtle.forward(200)\n",
    "    turtle.left(170)\n",
    "    turtle.end_fill()\n",
    " \n",
    "turtle.mainloop()"
   ]
  },
  {
   "cell_type": "code",
   "execution_count": null,
   "metadata": {},
   "outputs": [],
   "source": []
  },
  {
   "cell_type": "code",
   "execution_count": null,
   "metadata": {},
   "outputs": [],
   "source": [
    "import turtle as t\n",
    "import time\n",
    "t.color(\"red\", \"yellow\")\n",
    "t.speed(10)\n",
    "t.begin_fill()\n",
    "for _ in range(50):\n",
    "    t.forward(200)\n",
    "    t.left(170)\n",
    "end_fill()\n",
    "time.sleep(1)"
   ]
  },
  {
   "cell_type": "code",
   "execution_count": null,
   "metadata": {},
   "outputs": [],
   "source": [
    "import turtle\n",
    "def drawSnake(rad, angle, len, neckrad):\n",
    "    for i in range(len):\n",
    "        turtle.pencolor(\"red\")\n",
    "        turtle.circle(rad, angle)\n",
    "        turtle.pencolor(\"black\")\n",
    "        turtle.circle(-rad, angle)\n",
    "    turtle.pencolor(\"green\")\n",
    "    turtle.circle(rad, angle/2)\n",
    "    turtle.pencolor(\"yellow\")\n",
    "    turtle.fd(rad)\n",
    "    turtle.pencolor(\"purple\")\n",
    "    turtle.circle(neckrad+1, 180)\n",
    "    turtle.pencolor(\"cyan\")\n",
    "    turtle.fd(rad*2/3)\n",
    "\n",
    "def main():\n",
    "    turtle.setup(1300, 700, 0, 0)\n",
    "    pythonsize = 30\n",
    "    turtle.pensize(pythonsize)\n",
    "    turtle.pencolor(\"red\")\n",
    "    turtle.seth(-40)\n",
    "    drawSnake(30, 80, 5, pythonsize/2)\n",
    "\n",
    "main()"
   ]
  },
  {
   "cell_type": "code",
   "execution_count": null,
   "metadata": {},
   "outputs": [],
   "source": [
    "import time turtle.color(\"purple\") turtle.pensize(5) turtle.goto(0,0) turtle.speed(10) for i in range(6):  turtle.forward(100)  turtle.right(144) turtle.up() turtle.forward(100) turtle.goto(-150,-120) turtle.color(\"red\") turtle.write(\"Done\") time.sleep(3) \n"
   ]
  },
  {
   "cell_type": "code",
   "execution_count": null,
   "metadata": {},
   "outputs": [],
   "source": [
    "import turtle \n",
    "import time \n",
    "turtle.color(\"purple\") \n",
    "turtle.pensize(5) \n",
    "turtle.goto(0,0) \n",
    "turtle.speed(10) \n",
    "for i in range(6):  \n",
    "    turtle.forward(100)  \n",
    "    turtle.right(144) \n",
    "    turtle.up() \n",
    "    turtle.forward(100) \n",
    "turtle.goto(-150,-120) \n",
    "turtle.color(\"red\") \n",
    "turtle.write(\"Done\") \n",
    "time.sleep(3) \n"
   ]
  },
  {
   "cell_type": "code",
   "execution_count": null,
   "metadata": {},
   "outputs": [],
   "source": []
  },
  {
   "cell_type": "code",
   "execution_count": null,
   "metadata": {},
   "outputs": [],
   "source": [
    "#/usr/bin/python\n",
    "# *-*coding:utf-8 *-*\n",
    "\n",
    "\n",
    "\n",
    "\n",
    "\"\"\"\n",
    "turtle 画火树银花\n",
    "\n",
    "\n",
    "在此大婶文章内容上加颜色和修改角度长度\n",
    "# http://www.bkjia.com/Pythonjc/847768.html  python实现绘制树枝简单示例\n",
    "\n",
    "\n",
    "\"\"\"\n",
    "import turtle as t\n",
    "import random\n",
    "\n",
    "\n",
    "\n",
    "\n",
    "colors = ['red', 'blue', 'green', 'yellow', 'pink', 'red', 'purple', 'crimson', 'orange', 'turquoise', 'navy']\n",
    "\n",
    "\n",
    "longs = [ 0.7, 0.8, 0.9, 0.95]\n",
    "angle = [15, 20, 25, 30]\n",
    "\n",
    "\n",
    "t.bgcolor('black')\n",
    "t.pencolor('green')\n",
    "t.speed(12)\n",
    "\n",
    "\n",
    "def branch(length, level):\n",
    "pen = random.choice(colors)\n",
    "t.pencolor(pen)\n",
    "lon = random.choice(longs)\n",
    "ang = random.choice(angle)\n",
    "if level <= 0:\n",
    "return \n",
    "\n",
    "\n",
    "t.forward(length)\n",
    "t.left(ang)\n",
    "branch(lon * length, level -1)\n",
    "\n",
    "t.right(ang*2)\n",
    "\n",
    "branch(lon * length, level -1)\n",
    "t.left(ang)\n",
    "t.backward(length)\n",
    "\n",
    "return \n",
    "\n",
    "\n",
    "t.left(90)"
   ]
  },
  {
   "cell_type": "code",
   "execution_count": null,
   "metadata": {},
   "outputs": [],
   "source": []
  },
  {
   "cell_type": "code",
   "execution_count": null,
   "metadata": {},
   "outputs": [],
   "source": [
    "#DrawKoch.py   https://blog.csdn.net/htuhxf/article/details/80415976\n",
    "import turtle as t\n",
    " \n",
    "def koch(size, n):\n",
    "  if n==0:\n",
    "    t.fd(size)\n",
    "  else:\n",
    "    for angle in [0,60,-120,60]:\n",
    "      t.left(angle)\n",
    "      koch(size/3,n-1)\n",
    " \n",
    "if __name__=='__main__':\n",
    "  t.setup(1000,1000)\n",
    "  t.pen(speed = 0, pendown = False, pencolor = 'blue')\n",
    " \n",
    "  a,n = 400,4\n",
    "  t.goto(-a/2,a/2/pow(3,0.5))\n",
    "  t.pd()\n",
    "  for i in range(3):\n",
    "    koch(a,n)\n",
    "    t.right(120)\n",
    "  t.ht()\n",
    "  t.done()"
   ]
  },
  {
   "cell_type": "code",
   "execution_count": null,
   "metadata": {},
   "outputs": [],
   "source": []
  },
  {
   "cell_type": "code",
   "execution_count": null,
   "metadata": {},
   "outputs": [],
   "source": []
  }
 ],
 "metadata": {
  "kernelspec": {
   "display_name": "Python 3",
   "language": "python",
   "name": "python3"
  },
  "language_info": {
   "codemirror_mode": {
    "name": "ipython",
    "version": 3
   },
   "file_extension": ".py",
   "mimetype": "text/x-python",
   "name": "python",
   "nbconvert_exporter": "python",
   "pygments_lexer": "ipython3",
   "version": "3.6.5"
  }
 },
 "nbformat": 4,
 "nbformat_minor": 2
}
