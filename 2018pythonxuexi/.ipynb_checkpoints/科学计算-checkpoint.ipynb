{
 "cells": [
  {
   "cell_type": "markdown",
   "metadata": {},
   "source": [
    "\n",
    "科学计算\n",
    "\n",
    "http://code.enthought.com/pages/mayavi-project.html\n",
    "\n",
    "\n",
    "PyCharm 下 TVTK、Mayavi、Traits 库的安装\n",
    "https://blog.csdn.net/sinat_27421407/article/details/78740065\n",
    "\n",
    "\n",
    "Python 可视化基础——tvtk库的使用\n",
    "\n",
    "物理学 话题的优秀回答者\n",
    "7 人赞了该文章\n",
    "一、tvtk库的安装\n",
    "\n",
    "下载 VTK-7.1.1-cp36 TVTK -cp36m-win_amd64.whl\n",
    "https://www.lfd.uci.edu/~gohlke/pythonlibs/#vtk\n",
    "库的安装\n",
    "“以管理员身份运行”cmd\n",
    "在下载目录执行pip install VTK-7.1.1-cp36-cp36m-win_amd64.whl\n",
    "\n",
    "\n",
    "VTK‑7.1.1‑cp34‑cp34m‑win_amd64.whl\n",
    "VTK‑7.1.1‑cp35‑cp35m‑win32.whl\n",
    "VTK‑7.1.1‑cp35‑cp35m‑win_amd64.whl\n",
    "VTK‑7.1.1‑cp36‑cp36m‑win32.whl\n",
    "VTK‑7.1.1‑cp36‑cp36m‑win_amd64.whl\n",
    "VTK‑8.1.1‑cp35‑cp35m‑win32.whl\n",
    "VTK‑8.1.1‑cp35‑cp35m‑win_amd64.whl\n",
    "VTK‑8.1.1‑cp36‑cp36m‑win32.whl\n",
    "VTK‑8.1.1‑cp36‑cp36m‑win_amd64.whl\n",
    "VTK‑8.1.1‑cp37‑cp37m‑win32.whl\n",
    "VTK‑8.1.1‑cp37‑cp37m‑win_amd64.whl\n",
    "\n",
    "###\n",
    "和Matlab不同，Python的科学软件包由众多的社区维护和发布，因此要一一将其收集齐安装到你的电脑里是一件很费时间的事情。幸好这些工作已经有人帮我们整理好了。只需要下载一个文件，一次安装就能拥有众多的函数库可供使用。\n",
    "\n",
    "这里介绍两个科学计算Python合集的下载和安装过程。\n",
    "\n",
    "\n",
    "##Mac环境\n",
    "安装步骤：\n",
    "根据需要的版本下载anaconda，此文中以Python 3.6 version为例anaconda下载地址\n",
    "下载后安装并运行anaconda\n",
    "配置anaconda环境变量，此处默认也可，根据自身实际安装位置进行配置\n",
    "打开终端，依次输入如下命令进行安装：\n",
    "\n",
    "conda install vtk\n",
    "conda install numpy\n",
    "conda install traits\n",
    "conda install mayavi\n",
    "conda install PyQt\n",
    "安装结果测试：\n",
    "终端输入python即可打开idle，此时输入以下命令：\n",
    "\n",
    "from tvtk.tools import tvtk_doc\n",
    "tvtk_doc.main()\n",
    "\n",
    "\n",
    "\n",
    "C盘建立文件夹把下面的考进去py36\n",
    "基础环境搭好，按照提示下载所需的库文件，是Unofficial的，依次安装：\n",
    "VTK-7.1.1-cp36-cp36m-win_amd64.whl\n",
    "numpy-1.12.1+mkl-cp36-cp36m-win_amd64.whl\n",
    "traits-4.6.0-cp36-cp36m-win_amd64.whl\n",
    "mayavi-4.5.0+vtk71-cp36-cp36m-win_amd64.whl\n",
    "PyQt4-4.11.4-cp36-cp36m-win_amd64.whl\n",
    "C:\\ py36激活py36环境，这是我的下载文件目录\n",
    "(py36) C:\\ py36>pip install VTK-7.1.1-cp36-cp36m-win_amd64.whl\n",
    "C:\\ py36\\vtk-7.1.1-cp36-cp36m-win_amd64.whl\n",
    "Installing collected packages: VTK\n",
    "Successfully installed VTK-7.1.1\n",
    "....\n",
    "C:\\ py36>pip install PyQt4-4.11.4-cp36-cp36m-win_amd64.whl\n",
    "C:\\ py36>pyqt4-4.11.4-cp36-cp36m-win_amd64.whl\n",
    "Installing collected packages: PyQt4\n",
    "Successfully installed PyQt4-4.11.4\n"
   ]
  },
  {
   "cell_type": "markdown",
   "metadata": {},
   "source": [
    "PyCharm 下 TVTK、Mayavi、Traits 库的安装\n",
    "\n",
    "https://blog.csdn.net/sinat_27421407/article/details/78740065\n"
   ]
  },
  {
   "cell_type": "code",
   "execution_count": 2,
   "metadata": {},
   "outputs": [
    {
     "data": {
      "text/plain": [
       "array([[ 1,  2,  3,  4],\n",
       "       [ 4,  5,  6,  7],\n",
       "       [ 7,  8,  9, 10]])"
      ]
     },
     "execution_count": 2,
     "metadata": {},
     "output_type": "execute_result"
    }
   ],
   "source": [
    "import numpy as np\n",
    "\n",
    "a = np.array([1, 2, 3, 4])\n",
    "b = np.array([[1, 2, 3, 4], [4, 5, 6, 7], [7, 8, 9, 10]])\n",
    "b"
   ]
  },
  {
   "cell_type": "code",
   "execution_count": 3,
   "metadata": {},
   "outputs": [
    {
     "data": {
      "text/plain": [
       "array([[4, 9, 2],\n",
       "       [3, 5, 7],\n",
       "       [8, 1, 6]])"
      ]
     },
     "execution_count": 3,
     "metadata": {},
     "output_type": "execute_result"
    }
   ],
   "source": [
    "import numpy as np\n",
    "\n",
    "\n",
    "b = np.array([[4,9,2], [3,5,7], [8,1,6]])\n",
    "b"
   ]
  },
  {
   "cell_type": "code",
   "execution_count": 4,
   "metadata": {},
   "outputs": [
    {
     "ename": "ValueError",
     "evalue": "only 2 non-keyword arguments accepted",
     "output_type": "error",
     "traceback": [
      "\u001b[1;31m---------------------------------------------------------------------------\u001b[0m",
      "\u001b[1;31mValueError\u001b[0m                                Traceback (most recent call last)",
      "\u001b[1;32m<ipython-input-4-bc262047b94b>\u001b[0m in \u001b[0;36m<module>\u001b[1;34m()\u001b[0m\n\u001b[0;32m      2\u001b[0m \u001b[1;33m\u001b[0m\u001b[0m\n\u001b[0;32m      3\u001b[0m \u001b[1;33m\u001b[0m\u001b[0m\n\u001b[1;32m----> 4\u001b[1;33m \u001b[0mb\u001b[0m \u001b[1;33m=\u001b[0m \u001b[0mnp\u001b[0m\u001b[1;33m.\u001b[0m\u001b[0marray\u001b[0m\u001b[1;33m(\u001b[0m\u001b[1;33m[\u001b[0m\u001b[1;36m4\u001b[0m\u001b[1;33m,\u001b[0m\u001b[1;36m9\u001b[0m\u001b[1;33m,\u001b[0m\u001b[1;36m2\u001b[0m\u001b[1;33m]\u001b[0m\u001b[1;33m,\u001b[0m \u001b[1;33m[\u001b[0m\u001b[1;36m3\u001b[0m\u001b[1;33m,\u001b[0m\u001b[1;36m5\u001b[0m\u001b[1;33m,\u001b[0m\u001b[1;36m7\u001b[0m\u001b[1;33m]\u001b[0m\u001b[1;33m,\u001b[0m \u001b[1;33m[\u001b[0m\u001b[1;36m8\u001b[0m\u001b[1;33m,\u001b[0m\u001b[1;36m1\u001b[0m\u001b[1;33m,\u001b[0m\u001b[1;36m6\u001b[0m\u001b[1;33m]\u001b[0m\u001b[1;33m)\u001b[0m\u001b[1;33m\u001b[0m\u001b[0m\n\u001b[0m\u001b[0;32m      5\u001b[0m \u001b[0mb\u001b[0m\u001b[1;33m\u001b[0m\u001b[0m\n",
      "\u001b[1;31mValueError\u001b[0m: only 2 non-keyword arguments accepted"
     ]
    }
   ],
   "source": []
  },
  {
   "cell_type": "code",
   "execution_count": null,
   "metadata": {},
   "outputs": [],
   "source": []
  },
  {
   "cell_type": "code",
   "execution_count": null,
   "metadata": {},
   "outputs": [],
   "source": []
  },
  {
   "cell_type": "code",
   "execution_count": null,
   "metadata": {},
   "outputs": [],
   "source": []
  }
 ],
 "metadata": {
  "kernelspec": {
   "display_name": "Python 3",
   "language": "python",
   "name": "python3"
  },
  "language_info": {
   "codemirror_mode": {
    "name": "ipython",
    "version": 3
   },
   "file_extension": ".py",
   "mimetype": "text/x-python",
   "name": "python",
   "nbconvert_exporter": "python",
   "pygments_lexer": "ipython3",
   "version": "3.6.5"
  }
 },
 "nbformat": 4,
 "nbformat_minor": 2
}
